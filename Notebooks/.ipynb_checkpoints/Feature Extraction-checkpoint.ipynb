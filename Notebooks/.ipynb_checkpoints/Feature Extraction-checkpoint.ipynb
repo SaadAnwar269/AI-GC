{
 "cells": [
  {
   "cell_type": "code",
   "execution_count": 1,
   "id": "ed4c01d4",
   "metadata": {},
   "outputs": [
    {
     "name": "stdout",
     "output_type": "stream",
     "text": [
      "Feature extraction complete. Features saved to 'features.csv'.\n"
     ]
    }
   ],
   "source": [
    "import cv2\n",
    "import numpy as np\n",
    "import pandas as pd\n",
    "import os\n",
    "\n",
    "# Paths\n",
    "SEGMENTS_FOLDER = '../Segments/'  # Folder containing your video segments\n",
    "LABEL_FILE = '../label.csv'       # Your label file\n",
    "\n",
    "# Function to extract features from a video segment\n",
    "def extract_features(video_path):\n",
    "    cap = cv2.VideoCapture(video_path)\n",
    "    crosshair_movement = 0\n",
    "    frame_count = 0\n",
    "    prev_frame = None\n",
    "    motion_density = 0\n",
    "\n",
    "    while cap.isOpened():\n",
    "        ret, frame = cap.read()\n",
    "        if not ret:\n",
    "            break\n",
    "\n",
    "        frame_count += 1\n",
    "        gray = cv2.cvtColor(frame, cv2.COLOR_BGR2GRAY)  # Convert frame to grayscale\n",
    "\n",
    "        # Compute difference between consecutive frames\n",
    "        if prev_frame is not None:\n",
    "            diff = cv2.absdiff(prev_frame, gray)\n",
    "            crosshair_movement += np.sum(diff)\n",
    "            motion_density += np.mean(diff > 50)  # Count significant pixel changes\n",
    "\n",
    "        prev_frame = gray\n",
    "\n",
    "    cap.release()\n",
    "\n",
    "    # Normalize features by frame count\n",
    "    avg_crosshair_movement = crosshair_movement / frame_count if frame_count > 0 else 0\n",
    "    avg_motion_density = motion_density / frame_count if frame_count > 0 else 0\n",
    "\n",
    "    return avg_crosshair_movement, avg_motion_density\n",
    "\n",
    "# Read the label file\n",
    "labels = pd.read_csv(LABEL_FILE)\n",
    "labels.head()\n",
    "\n",
    "# List to store extracted features\n",
    "features = []\n",
    "\n",
    "for idx, row in labels.iterrows():\n",
    "    video_file = os.path.join(SEGMENTS_FOLDER, row['filename'])\n",
    "    label = row['label']\n",
    "\n",
    "    # Extract features from the video\n",
    "    try:\n",
    "        crosshair_movement, motion_density = extract_features(video_file)\n",
    "        features.append([row['filename'], crosshair_movement, motion_density, label])\n",
    "    except Exception as e:\n",
    "        print(f\"Error processing {video_file}: {e}\")\n",
    "\n",
    "# Create a DataFrame for the features\n",
    "features_df = pd.DataFrame(features, columns=['Filename', 'CrosshairMovement', 'MotionDensity', 'Label'])\n",
    "\n",
    "# Save to CSV\n",
    "features_df.to_csv('../features.csv', index=False)\n",
    "print(\"Feature extraction complete. Features saved to 'features.csv'.\")\n"
   ]
  },
  {
   "cell_type": "code",
   "execution_count": null,
   "id": "b7efc5f0",
   "metadata": {},
   "outputs": [],
   "source": []
  }
 ],
 "metadata": {
  "kernelspec": {
   "display_name": "Valorant Environment",
   "language": "python",
   "name": "valorant_env"
  },
  "language_info": {
   "codemirror_mode": {
    "name": "ipython",
    "version": 3
   },
   "file_extension": ".py",
   "mimetype": "text/x-python",
   "name": "python",
   "nbconvert_exporter": "python",
   "pygments_lexer": "ipython3",
   "version": "3.9.20"
  }
 },
 "nbformat": 4,
 "nbformat_minor": 5
}
